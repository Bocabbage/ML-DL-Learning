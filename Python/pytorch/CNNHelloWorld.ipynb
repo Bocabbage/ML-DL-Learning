{
 "cells": [
  {
   "cell_type": "markdown",
   "metadata": {},
   "source": [
    "# CNN HelloWorld:使用CNN-Classifier处理CIFAR10"
   ]
  },
  {
   "cell_type": "markdown",
   "metadata": {},
   "source": [
    "更新时间：2019/3/28（进度：读取CIFAR10数据集）\n",
    "       2019/4/23（进度：参考pytorch-tutorials完成）"
   ]
  },
  {
   "cell_type": "code",
   "execution_count": 1,
   "metadata": {},
   "outputs": [],
   "source": [
    "import torch\n",
    "import torchvision\n",
    "import torchvision.transforms as transforms\n",
    "import numpy as np"
   ]
  },
  {
   "cell_type": "markdown",
   "metadata": {},
   "source": [
    "## 读取数据并可视化显示"
   ]
  },
  {
   "cell_type": "code",
   "execution_count": 2,
   "metadata": {},
   "outputs": [],
   "source": [
    "# def unpickle(file):\n",
    "#     import pickle\n",
    "#     fo = open(file, 'rb')\n",
    "#     Dict = pickle.load(fo,encoding='iso-8859-1')\n",
    "#     fo.close()\n",
    "#     return Dict\n",
    "\n",
    "# # 读取训练集数据\n",
    "# file_batch1 = 'E:/Programming/Dataset/CIFAR10/cifar-10-batches-py/data_batch_1'\n",
    "# file_batch2 = 'E:/Programming/Dataset/CIFAR10/cifar-10-batches-py/data_batch_2'\n",
    "# file_batch3 = 'E:/Programming/Dataset/CIFAR10/cifar-10-batches-py/data_batch_3'\n",
    "# file_batch4 = 'E:/Programming/Dataset/CIFAR10/cifar-10-batches-py/data_batch_4'\n",
    "# file_batch5 = 'E:/Programming/Dataset/CIFAR10/cifar-10-batches-py/data_batch_5'\n",
    "# train_batch_files = [file_batch1,file_batch2,file_batch3,file_batch4,file_batch5]\n",
    "# train_batches = []\n",
    "# for file in train_batch_files:\n",
    "#     dict_train_batch = unpickle(file)\n",
    "#     data_train_batch = dict_train_batch.get('data')\n",
    "#     labels =  dict_train_batch.get('labels')\n",
    "#     train_batches.append([data_train_batch,labels])\n",
    "# train_data = np.concatenate([x[0] for x in train_batches])\n",
    "# train_labels = np.concatenate([x[1] for x in train_batches])\n",
    "\n",
    "# # 读取测试集数据\n",
    "# test_batch = 'E:/Programming/Dataset/CIFAR10/cifar-10-batches-py/test_batch'\n",
    "# dict_test_batch = unpickle(test_batch)\n",
    "# test_data = dict_test_batch.get('data')\n",
    "# test_labels = dict_test_batch.get('labels')\n",
    "\n",
    "# 图像归一化处理\n",
    "transform = transforms.Compose(\n",
    "    [transforms.ToTensor(),\n",
    "     transforms.Normalize((0.5, 0.5, 0.5), (0.5, 0.5, 0.5))])#(mean1,mean2,mean3),(std1,std2,std3)\n",
    "\n",
    "trainset = torchvision.datasets.CIFAR10(root='E:/Programming/Dataset/CIFAR10/', train=True,\n",
    "                                        transform=transform)\n",
    "trainloader = torch.utils.data.DataLoader(trainset, batch_size=4,\n",
    "                                          shuffle=True, num_workers=2)\n",
    "\n",
    "testset = torchvision.datasets.CIFAR10(root='E:/Programming/Dataset/CIFAR10/', train=False,\n",
    "                                       transform=transform)\n",
    "testloader = torch.utils.data.DataLoader(testset, batch_size=4,\n",
    "                                         shuffle=False, num_workers=2)\n",
    "    \n",
    "classes = ('plane', 'car', 'bird', 'cat',\n",
    "           'deer', 'dog', 'frog', 'horse', 'ship', 'truck')"
   ]
  },
  {
   "cell_type": "code",
   "execution_count": 4,
   "metadata": {},
   "outputs": [
    {
     "data": {
      "image/png": "[encoded data removed]",
      "text/plain": [
       "<Figure size 432x288 with 1 Axes>"
      ]
     },
     "metadata": {
      "needs_background": "light"
     },
     "output_type": "display_data"
    },
    {
     "name": "stdout",
     "output_type": "stream",
     "text": [
      "  dog   dog horse   cat\n"
     ]
    }
   ],
   "source": [
    "import matplotlib.pyplot as plt\n",
    "\n",
    "# img_test = train_data[0,:]\n",
    "# plt.figure()\n",
    "# plt.imshow(img_test.reshape(3, 32, 32).transpose(1,2,0).astype(\"uint8\"))\n",
    "# plt.show()\n",
    "# label_test = train_batches[0][1]\n",
    "# print(classes[label_test[0]])\n",
    "\n",
    "# print(train_data.shape)\n",
    "# print(test_data.shape)\n",
    "\n",
    "def imshow(img):\n",
    "    img = img / 2 + 0.5     # unnormalize\n",
    "    npimg = img.numpy()\n",
    "    plt.imshow(np.transpose(npimg, (1, 2, 0)))\n",
    "    plt.show()\n",
    "\n",
    "\n",
    "# get some random training images\n",
    "dataiter = iter(trainloader)\n",
    "images, labels = dataiter.next()\n",
    "\n",
    "# show images\n",
    "imshow(torchvision.utils.make_grid(images))\n",
    "# print labels\n",
    "print(' '.join('%5s' % classes[labels[j]] for j in range(4)))"
   ]
  },
  {
   "cell_type": "markdown",
   "metadata": {},
   "source": [
    "## PCA降维处理"
   ]
  },
  {
   "cell_type": "code",
   "execution_count": 4,
   "metadata": {},
   "outputs": [],
   "source": [
    "# from sklearn.decomposition import PCA\n",
    "# pca = PCA(n_components = 100, svd_solver = \"full\")\n",
    "# train_data_pca = pca.fit_transform(train_data)\n",
    "# test_data_pca = pca.transform(test_data)\n",
    "# print(train_data_pca.shape,test_data_pca.shape)"
   ]
  },
  {
   "cell_type": "markdown",
   "metadata": {},
   "source": [
    "## CNN模型定义"
   ]
  },
  {
   "cell_type": "markdown",
   "metadata": {},
   "source": [
    "网络前馈定义："
   ]
  },
  {
   "cell_type": "code",
   "execution_count": 5,
   "metadata": {},
   "outputs": [],
   "source": [
    "import torch.nn as nn\n",
    "import torch.nn.functional as F\n",
    "\n",
    "class Net(nn.Module):\n",
    "    \n",
    "    def __init__(self):\n",
    "        super(Net,self).__init__()\n",
    "        self.pool = nn.MaxPool2d(2,2)\n",
    "        # input_channals,output_channals,kernal_size\n",
    "        self.conv1 = nn.Conv2d(3,6,5)\n",
    "        self.conv2 = nn.Conv2d(6,16,5)\n",
    "        self.fc1 = nn.Linear(16*5*5,120)\n",
    "        self.fc2 = nn.Linear(120,84)\n",
    "        self.fc3 = nn.Linear(84,10)\n",
    "        \n",
    "    def forward(self,x):\n",
    "        x = self.pool(F.relu(self.conv1(x)))\n",
    "        x = self.pool(F.relu(self.conv2(x)))\n",
    "        x = x.view(-1,16*5*5)\n",
    "        x = F.relu(self.fc1(x))\n",
    "        x = F.relu(self.fc2(x))\n",
    "        x = self.fc3(x)\n",
    "        return x\n",
    "\n",
    "net = Net()"
   ]
  },
  {
   "cell_type": "markdown",
   "metadata": {},
   "source": [
    "使用Cross-Entropy loss/SGD学习："
   ]
  },
  {
   "cell_type": "code",
   "execution_count": 6,
   "metadata": {},
   "outputs": [],
   "source": [
    "import torch.optim as optim\n",
    "\n",
    "criterion = nn.CrossEntropyLoss()\n",
    "optimizer = optim.SGD(net.parameters(),lr=0.001, momentum=0.9)"
   ]
  },
  {
   "cell_type": "markdown",
   "metadata": {},
   "source": [
    "## 训练模型"
   ]
  },
  {
   "cell_type": "code",
   "execution_count": 7,
   "metadata": {
    "scrolled": true
   },
   "outputs": [
    {
     "name": "stdout",
     "output_type": "stream",
     "text": [
      "[1, 2000] loss:2.197\n",
      "[1, 4000] loss:1.867\n",
      "[1, 6000] loss:1.666\n",
      "[1, 8000] loss:1.553\n",
      "[1,10000] loss:1.495\n",
      "[1,12000] loss:1.443\n",
      "[2, 2000] loss:1.382\n",
      "[2, 4000] loss:1.351\n",
      "[2, 6000] loss:1.322\n",
      "[2, 8000] loss:1.304\n",
      "[2,10000] loss:1.283\n",
      "[2,12000] loss:1.267\n",
      "[3, 2000] loss:1.193\n",
      "[3, 4000] loss:1.195\n",
      "[3, 6000] loss:1.177\n",
      "[3, 8000] loss:1.192\n",
      "[3,10000] loss:1.148\n",
      "[3,12000] loss:1.182\n",
      "[4, 2000] loss:1.069\n",
      "[4, 4000] loss:1.071\n",
      "[4, 6000] loss:1.094\n",
      "[4, 8000] loss:1.087\n",
      "[4,10000] loss:1.090\n",
      "[4,12000] loss:1.096\n",
      "[5, 2000] loss:1.000\n",
      "[5, 4000] loss:1.020\n",
      "[5, 6000] loss:0.999\n",
      "[5, 8000] loss:1.020\n",
      "[5,10000] loss:1.021\n",
      "[5,12000] loss:1.021\n",
      "Finished Training in 346.384 s\n"
     ]
    }
   ],
   "source": [
    "import time\n",
    "start_time = time.time()\n",
    "for epoch in range(5):\n",
    "    running_loss = 0.0\n",
    "    for i,data in enumerate(trainloader,0):\n",
    "        inputs,labels=data\n",
    "        optimizer.zero_grad()\n",
    "        outputs = net(inputs)\n",
    "        loss = criterion(outputs,labels)\n",
    "        loss.backward()\n",
    "        optimizer.step()\n",
    "        \n",
    "        running_loss += loss.item()\n",
    "        if i%2000 == 1999:\n",
    "            print('[%d,%5d] loss:%.3f'%\n",
    "                 (epoch+1,i+1,running_loss/2000))\n",
    "            running_loss = 0.0\n",
    "print('Finished Training in %.3f s'%(time.time()-start_time))\n"
   ]
  },
  {
   "cell_type": "markdown",
   "metadata": {},
   "source": [
    "## 测试模型"
   ]
  },
  {
   "cell_type": "code",
   "execution_count": 8,
   "metadata": {},
   "outputs": [
    {
     "data": {
      "image/png": "[encoded data removed]",
      "text/plain": [
       "<Figure size 432x288 with 1 Axes>"
      ]
     },
     "metadata": {
      "needs_background": "light"
     },
     "output_type": "display_data"
    },
    {
     "name": "stdout",
     "output_type": "stream",
     "text": [
      "GroundTruth:    cat  ship  ship plane\n"
     ]
    }
   ],
   "source": [
    "dataiter = iter(testloader)\n",
    "images,labels = dataiter.next()\n",
    "# print images\n",
    "imshow(torchvision.utils.make_grid(images))\n",
    "print('GroundTruth: ', ' '.join('%5s' % classes[labels[j]] for j in range(4)))"
   ]
  },
  {
   "cell_type": "code",
   "execution_count": 9,
   "metadata": {},
   "outputs": [
    {
     "name": "stdout",
     "output_type": "stream",
     "text": [
      "Predicted:    cat truck  ship  ship\n"
     ]
    }
   ],
   "source": [
    "outputs = net(images)\n",
    "_, predicted = torch.max(outputs, 1)\n",
    "\n",
    "print('Predicted: ', ' '.join('%5s' % classes[predicted[j]]\n",
    "                              for j in range(4)))"
   ]
  },
  {
   "cell_type": "code",
   "execution_count": 10,
   "metadata": {},
   "outputs": [
    {
     "name": "stdout",
     "output_type": "stream",
     "text": [
      "Accuracy of the network on the 10000 test images: 59 %\n"
     ]
    }
   ],
   "source": [
    "correct = 0\n",
    "total = 0\n",
    "with torch.no_grad():\n",
    "    for data in testloader:\n",
    "        images, labels = data\n",
    "        outputs = net(images)\n",
    "        _, predicted = torch.max(outputs.data, 1)\n",
    "        total += labels.size(0)\n",
    "        correct += (predicted == labels).sum().item()\n",
    "\n",
    "print('Accuracy of the network on the 10000 test images: %d %%' % (\n",
    "    100 * correct / total))"
   ]
  },
  {
   "cell_type": "code",
   "execution_count": 11,
   "metadata": {},
   "outputs": [
    {
     "name": "stdout",
     "output_type": "stream",
     "text": [
      "Accuracy of plane : 54 %\n",
      "Accuracy of   car : 52 %\n",
      "Accuracy of  bird : 58 %\n",
      "Accuracy of   cat : 43 %\n",
      "Accuracy of  deer : 54 %\n",
      "Accuracy of   dog : 44 %\n",
      "Accuracy of  frog : 80 %\n",
      "Accuracy of horse : 66 %\n",
      "Accuracy of  ship : 68 %\n",
      "Accuracy of truck : 77 %\n"
     ]
    }
   ],
   "source": [
    "class_correct = list(0. for i in range(10))\n",
    "class_total = list(0. for i in range(10))\n",
    "with torch.no_grad():\n",
    "    for data in testloader:\n",
    "        images, labels = data\n",
    "        outputs = net(images)\n",
    "        _, predicted = torch.max(outputs, 1)\n",
    "        c = (predicted == labels).squeeze()\n",
    "        for i in range(4):\n",
    "            label = labels[i]\n",
    "            class_correct[label] += c[i].item()\n",
    "            class_total[label] += 1\n",
    "\n",
    "\n",
    "for i in range(10):\n",
    "    print('Accuracy of %5s : %2d %%' % (\n",
    "        classes[i], 100 * class_correct[i] / class_total[i]))"
   ]
  }
 ],
 "metadata": {
  "kernelspec": {
   "display_name": "python mlpy37",
   "language": "python",
   "name": "mlpy37"
  },
  "language_info": {
   "codemirror_mode": {
    "name": "ipython",
    "version": 3
   },
   "file_extension": ".py",
   "mimetype": "text/x-python",
   "name": "python",
   "nbconvert_exporter": "python",
   "pygments_lexer": "ipython3",
   "version": "3.7.1"
  }
 },
 "nbformat": 4,
 "nbformat_minor": 2
}
