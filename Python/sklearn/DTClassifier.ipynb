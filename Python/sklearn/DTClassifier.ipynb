{
 "cells": [
  {
   "cell_type": "markdown",
   "metadata": {},
   "source": [
    "# 使用sklearn中的DT分类器学习MNIST"
   ]
  },
  {
   "cell_type": "markdown",
   "metadata": {},
   "source": [
    "更新时间:2019/3/24\n",
    "accuracy:当n_components=20时，达到准确率0.8458"
   ]
  },
  {
   "cell_type": "code",
   "execution_count": null,
   "metadata": {},
   "outputs": [],
   "source": [
    "import numpy\n",
    "from mlxtend.data import loadlocal_mnist \n",
    "from sklearn.decomposition import PCA"
   ]
  },
  {
   "cell_type": "code",
   "execution_count": 2,
   "metadata": {},
   "outputs": [],
   "source": [
    "tr_data,tr_labels = loadlocal_mnist(images_path='E:/MNIST/train-images.idx3-ubyte',\n",
    "                                    labels_path='E:/MNIST/train-labels.idx1-ubyte') \n",
    "ts_data,ts_labels = loadlocal_mnist(images_path='E:/MNIST/t10k-images.idx3-ubyte',\n",
    "                                    labels_path='E:/MNIST/t10k-labels.idx1-ubyte')"
   ]
  },
  {
   "cell_type": "code",
   "execution_count": 3,
   "metadata": {},
   "outputs": [],
   "source": [
    "n_components=20\n",
    "pca = PCA(n_components = n_components,\n",
    "              svd_solver = \"randomized\",\n",
    "              whiten = True).fit(tr_data)\n",
    "trainX_pca = pca.transform(tr_data)\n",
    "testX_pca = pca.transform(ts_data)"
   ]
  },
  {
   "cell_type": "code",
   "execution_count": 4,
   "metadata": {},
   "outputs": [],
   "source": [
    "tr_data_pca = (trainX_pca/trainX_pca.max()).reshape([-1,n_components])\n",
    "ts_data_pca = (testX_pca/testX_pca.max()).reshape([-1,n_components])"
   ]
  },
  {
   "cell_type": "code",
   "execution_count": 5,
   "metadata": {},
   "outputs": [],
   "source": [
    "from sklearn.tree import DecisionTreeClassifier"
   ]
  },
  {
   "cell_type": "code",
   "execution_count": 6,
   "metadata": {},
   "outputs": [],
   "source": [
    "clf = DecisionTreeClassifier().fit(tr_data_pca,tr_labels)\n",
    "predict = clf.predict(ts_data_pca)"
   ]
  },
  {
   "cell_type": "code",
   "execution_count": 7,
   "metadata": {},
   "outputs": [
    {
     "name": "stdout",
     "output_type": "stream",
     "text": [
      "test accuracy: 0.845800\n"
     ]
    }
   ],
   "source": [
    "n = ts_labels.shape[0]\n",
    "correct_l = 0\n",
    "for i in range(0,n):\n",
    "    if ts_labels[i] == predict[i]:\n",
    "        correct_l += 1\n",
    "print(\"test accuracy: %f\" %(correct_l/n))"
   ]
  }
 ],
 "metadata": {
  "kernelspec": {
   "display_name": "python mlpy37",
   "language": "python",
   "name": "mlpy37"
  },
  "language_info": {
   "codemirror_mode": {
    "name": "ipython",
    "version": 3
   },
   "file_extension": ".py",
   "mimetype": "text/x-python",
   "name": "python",
   "nbconvert_exporter": "python",
   "pygments_lexer": "ipython3",
   "version": "3.7.1"
  }
 },
 "nbformat": 4,
 "nbformat_minor": 2
}
